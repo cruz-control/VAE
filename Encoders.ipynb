{
  "nbformat": 4,
  "nbformat_minor": 0,
  "metadata": {
    "colab": {
      "provenance": []
    },
    "kernelspec": {
      "name": "python3",
      "display_name": "Python 3"
    },
    "language_info": {
      "name": "python"
    }
  },
  "cells": [
    {
      "cell_type": "code",
      "execution_count": null,
      "metadata": {
        "id": "XIezCUHnUpMX"
      },
      "outputs": [],
      "source": [
        "import torch\n",
        "import torch.nn as nn\n",
        "import torch.optim as optim\n",
        "import torch.nn.functional as F\n",
        "from torch.autograd import Variable\n",
        "import torchvision\n",
        "import torchvision.transforms as transforms\n",
        "\n",
        "\n",
        "batch_size = 32\n",
        "\n",
        "trainset = torchvision.datasets.FashionMNIST(root='./data', train=True,\n",
        "                                        download=True, transform=transforms.ToTensor())\n",
        "trainloader = torch.utils.data.DataLoader(trainset, batch_size=batch_size,\n",
        "                                          shuffle=True, num_workers=2)\n",
        "testset = torchvision.datasets.FashionMNIST(root='./data', train=False,\n",
        "                                       download=True, transform=transforms.ToTensor())\n",
        "testloader = torch.utils.data.DataLoader(testset, batch_size=batch_size,\n",
        "                                         shuffle=False, num_workers=2)"
      ]
    },
    {
      "cell_type": "code",
      "source": [
        "device = torch.device(\"cuda\" if torch.cuda.is_available() else \"cpu\")\n",
        "\n",
        "class ContractiveAutoencoder(nn.Module):\n",
        "    def __init__(self):\n",
        "        super(ContractiveAutoencoder, self).__init__()\n",
        "        # Encoder layers\n",
        "        self.flatten = nn.Flatten()\n",
        "        self.encoder_fc1 = nn.Linear(28 * 28, 64)\n",
        "        self.encoder_fc2 = nn.Linear(64, 32)\n",
        "        self.bottleneck = nn.Linear(32, 16)  # bottleneck layer\n",
        "\n",
        "        # Decoder layers\n",
        "        self.decoder_fc1 = nn.Linear(16, 32)\n",
        "        self.decoder_fc2 = nn.Linear(32, 64)\n",
        "        self.output_fc = nn.Linear(64, 28 * 28)\n",
        "\n",
        "    def forward(self, x):\n",
        "        x = self.flatten(x)\n",
        "        x = F.relu(self.encoder_fc1(x))\n",
        "        x = F.relu(self.encoder_fc2(x))\n",
        "        h = F.relu(self.bottleneck(x))  # Latent representation (bottleneck)\n",
        "\n",
        "        x = F.relu(self.decoder_fc1(h))\n",
        "        x = F.relu(self.decoder_fc2(x))\n",
        "        x = self.output_fc(x)\n",
        "        x = x.view(x.size(0), 1, 28, 28)\n",
        "\n",
        "        return x, h"
      ],
      "metadata": {
        "id": "gG8x5oNoUsan"
      },
      "execution_count": null,
      "outputs": []
    },
    {
      "cell_type": "code",
      "source": [
        "def contractive_loss(x, x_reconstructed, h, model, Lambda=100):\n",
        "    # Reconstruction loss\n",
        "    mse_loss = F.mse_loss(x_reconstructed, x, reduction='sum')\n",
        "\n",
        "    # Contractive loss\n",
        "    dh = h * (1 - h)\n",
        "    W = model.bottleneck.weight\n",
        "    contractive = Lambda * torch.sum(dh ** 2 * torch.sum(W ** 2, dim=1))\n",
        "\n",
        "    total_loss = mse_loss + contractive\n",
        "    return total_loss\n",
        "model = ContractiveAutoencoder().to(device)\n",
        "optimizer = optim.Adam(model.parameters(), lr=0.001)\n"
      ],
      "metadata": {
        "id": "cO2YViXUUweP"
      },
      "execution_count": null,
      "outputs": []
    },
    {
      "cell_type": "code",
      "source": [
        "\n",
        "\n",
        "# Training loop\n",
        "num_epochs = 15  # Adjust as needed\n",
        "loss_array = []\n",
        "Lambda = 100  # Contractive regularization weight\n",
        "dataiter = iter(testloader)\n",
        "\n",
        "for epoch in range(num_epochs):\n",
        "    for i, (x_batch, label) in enumerate(trainloader):\n",
        "        x_batch = x_batch.to(device)\n",
        "\n",
        "        # Forward pass\n",
        "        x_reconstructed, h = model(x_batch)\n",
        "\n",
        "        # Compute loss and gradients\n",
        "        loss = contractive_loss(x_batch, x_reconstructed, h, model, Lambda)\n",
        "        loss_array.append(loss)\n",
        "        optimizer.zero_grad()\n",
        "        loss.backward()\n",
        "        optimizer.step()\n",
        "\n",
        "    print(f\"Epoch [{epoch + 1}/{num_epochs}], Loss: {loss.item()}\")"
      ],
      "metadata": {
        "colab": {
          "base_uri": "https://localhost:8080/"
        },
        "id": "FqJl00XSU0lr",
        "outputId": "3a4d15f6-52e6-4fdc-ba67-73b2fc8b6aef"
      },
      "execution_count": null,
      "outputs": [
        {
          "output_type": "stream",
          "name": "stdout",
          "text": [
            "Epoch [1/15], Loss: 779.6744995117188\n",
            "Epoch [2/15], Loss: 610.207275390625\n",
            "Epoch [3/15], Loss: 668.0921630859375\n",
            "Epoch [4/15], Loss: 569.341552734375\n",
            "Epoch [5/15], Loss: 605.8126220703125\n",
            "Epoch [6/15], Loss: 605.3224487304688\n",
            "Epoch [7/15], Loss: 630.3350830078125\n",
            "Epoch [8/15], Loss: 635.09375\n",
            "Epoch [9/15], Loss: 511.630126953125\n",
            "Epoch [10/15], Loss: 584.6310424804688\n",
            "Epoch [11/15], Loss: 621.0588989257812\n",
            "Epoch [12/15], Loss: 572.6546630859375\n",
            "Epoch [13/15], Loss: 637.6160278320312\n",
            "Epoch [14/15], Loss: 659.2431030273438\n",
            "Epoch [15/15], Loss: 538.6441040039062\n"
          ]
        }
      ]
    },
    {
      "cell_type": "code",
      "source": [
        "import matplotlib.pyplot as plt\n",
        "\n",
        "plt.style.use('fivethirtyeight')\n",
        "plt.xlabel('Iterations')\n",
        "plt.ylabel('Loss')\n",
        "\n",
        "num_losses = []\n",
        "\n",
        "for x in loss_array:\n",
        "    num_losses.append(x.item())\n",
        "\n",
        "plt.plot(num_losses)"
      ],
      "metadata": {
        "colab": {
          "base_uri": "https://localhost:8080/",
          "height": 495
        },
        "id": "jiizLBijIraI",
        "outputId": "3c1d05da-9f23-454b-bc35-0010a6cd9e5c"
      },
      "execution_count": null,
      "outputs": [
        {
          "output_type": "execute_result",
          "data": {
            "text/plain": [
              "[<matplotlib.lines.Line2D at 0x7c1ba7478100>]"
            ]
          },
          "metadata": {},
          "execution_count": 32
        },
        {
          "output_type": "display_data",
          "data": {
            "text/plain": [
              "<Figure size 640x480 with 1 Axes>"
            ],
            "image/png": "[encoded data removed]"
          },
          "metadata": {}
        }
      ]
    },
    {
      "cell_type": "code",
      "source": [
        "from PIL import Image\n",
        "from matplotlib import cm\n",
        "import numpy as np\n",
        "to_pil_image = transforms.ToPILImage()\n",
        "pil_image = to_pil_image(testset[0][0])\n",
        "pil_image"
      ],
      "metadata": {
        "id": "XklYuUfxAMd2",
        "colab": {
          "base_uri": "https://localhost:8080/",
          "height": 45
        },
        "outputId": "f68575f0-6b21-443a-f50d-b39925abda00"
      },
      "execution_count": null,
      "outputs": [
        {
          "output_type": "execute_result",
          "data": {
            "text/plain": [
              "<PIL.Image.Image image mode=L size=28x28>"
            ],
            "image/png": "[encoded data removed]",
            "image/jpeg": "[encoded data removed]"
          },
          "metadata": {},
          "execution_count": 33
        }
      ]
    },
    {
      "cell_type": "code",
      "source": [
        "x_reconstructed, h = model(testset[0][0])\n",
        "print(x_reconstructed.shape)\n",
        "to_pil_image(x_reconstructed.squeeze(0))"
      ],
      "metadata": {
        "colab": {
          "base_uri": "https://localhost:8080/",
          "height": 62
        },
        "id": "UVo-kbuXHMDV",
        "outputId": "2da56f9d-fbb8-4c36-9ba2-9863102f2657"
      },
      "execution_count": null,
      "outputs": [
        {
          "output_type": "stream",
          "name": "stdout",
          "text": [
            "torch.Size([1, 1, 28, 28])\n"
          ]
        },
        {
          "output_type": "execute_result",
          "data": {
            "text/plain": [
              "<PIL.Image.Image image mode=L size=28x28>"
            ],
            "image/png": "[encoded data removed]",
            "image/jpeg": "[encoded data removed]"
          },
          "metadata": {},
          "execution_count": 34
        }
      ]
    },
    {
      "cell_type": "code",
      "source": [
        "import torch\n",
        "from torchvision import datasets\n",
        "from torchvision import transforms\n",
        "import matplotlib.pyplot as plt"
      ],
      "metadata": {
        "id": "tdiVGtaTI9KT"
      },
      "execution_count": null,
      "outputs": []
    },
    {
      "cell_type": "code",
      "source": [
        "# Transforms images to a PyTorch Tensor\n",
        "tensor_transform = transforms.ToTensor()\n",
        "\n",
        "# Download the MNIST Dataset\n",
        "dataset = datasets.MNIST(root = \"./data\", train = True, download = True, transform = tensor_transform)\n",
        "\n",
        "# DataLoader is used to load the dataset\n",
        "# for training\n",
        "loader = torch.utils.data.DataLoader(dataset = dataset, batch_size = 30, shuffle = True)\n",
        "\n",
        "device = torch.device(\"cuda\")"
      ],
      "metadata": {
        "id": "42BZyO3nJBZh"
      },
      "execution_count": null,
      "outputs": []
    },
    {
      "cell_type": "code",
      "source": [
        "class AE(torch.nn.Module):\n",
        "    def __init__(self):\n",
        "        super().__init__()\n",
        "\n",
        "        # Building an linear encoder with Linear\n",
        "        # layer followed by Relu activation function\n",
        "        # 784 ==> 9\n",
        "        self.encoder = torch.nn.Sequential(\n",
        "            torch.nn.Linear(28 * 28, 128),\n",
        "            torch.nn.ReLU(),\n",
        "            torch.nn.Linear(128, 64),\n",
        "            torch.nn.ReLU(),\n",
        "            torch.nn.Linear(64, 36),\n",
        "            torch.nn.ReLU(),\n",
        "            torch.nn.Linear(36, 18),\n",
        "            torch.nn.ReLU(),\n",
        "            torch.nn.Linear(18, 9)\n",
        "        )\n",
        "\n",
        "        # Building an linear decoder with Linear\n",
        "        # layer followed by Relu activation function\n",
        "        # The Sigmoid activation function\n",
        "        # outputs the value between 0 and 1\n",
        "        # 9 ==> 784\n",
        "        self.decoder = torch.nn.Sequential(\n",
        "            torch.nn.Linear(9, 18),\n",
        "            torch.nn.ReLU(),\n",
        "            torch.nn.Linear(18, 36),\n",
        "            torch.nn.ReLU(),\n",
        "            torch.nn.Linear(36, 64),\n",
        "            torch.nn.ReLU(),\n",
        "            torch.nn.Linear(64, 128),\n",
        "            torch.nn.ReLU(),\n",
        "            torch.nn.Linear(128, 28 * 28),\n",
        "            torch.nn.Sigmoid()\n",
        "        )\n",
        "\n",
        "    def forward(self, x):\n",
        "        encoded = self.encoder(x)\n",
        "        decoded = self.decoder(encoded)\n",
        "        return decoded"
      ],
      "metadata": {
        "id": "1s3d2uGkJTG-"
      },
      "execution_count": null,
      "outputs": []
    },
    {
      "cell_type": "code",
      "source": [
        "# Model Initialization\n",
        "model = AE().to(device)\n",
        "\n",
        "# Validation using MSE Loss function\n",
        "loss_function = torch.nn.MSELoss()\n",
        "\n",
        "# Using an Adam Optimizer\n",
        "optimizer = torch.optim.Adam(model.parameters())"
      ],
      "metadata": {
        "id": "ZH9Ek0eSJWUn"
      },
      "execution_count": null,
      "outputs": []
    },
    {
      "cell_type": "code",
      "source": [
        "epochs = 40\n",
        "outputs = []\n",
        "losses = []\n",
        "\n",
        "print(\"Start Training\")\n",
        "for epoch in range(epochs):\n",
        "    print(\"Epoch \" + str(epoch))\n",
        "    for image in loader:\n",
        "        # Flattening the image\n",
        "        image = image.reshape(-1, 28 * 28).to(device)\n",
        "\n",
        "        # Sending the image to the device\n",
        "        image = image.to(\"mps\")\n",
        "\n",
        "        # Output of Autoencoder\n",
        "        reconstructed = model(image)\n",
        "\n",
        "        # Calculating the loss function\n",
        "        loss = loss_function(reconstructed, image)\n",
        "\n",
        "        # The gradients are set to zero,\n",
        "        # the gradient is computed and stored.\n",
        "        # .step() performs parameter update\n",
        "        optimizer.zero_grad()\n",
        "        loss.backward()\n",
        "        optimizer.step()\n",
        "\n",
        "        # Storing the losses in a list for plotting\n",
        "        losses.append(loss)\n",
        "    outputs.append((epochs, image, reconstructed))"
      ],
      "metadata": {
        "id": "l8Tdh6VDJbEG"
      },
      "execution_count": null,
      "outputs": []
    },
    {
      "cell_type": "code",
      "source": [
        "# Defining the Plot Style\n",
        "plt.style.use('fivethirtyeight')\n",
        "plt.xlabel('Iterations')\n",
        "plt.ylabel('Loss')\n",
        "\n",
        "num_losses = []\n",
        "\n",
        "for x in losses:\n",
        "    num_losses.append(x.item())\n",
        "\n",
        "# Plotting the last 100 values\n",
        "plt.plot(num_losses[-100:])"
      ],
      "metadata": {
        "id": "w5GPsellJdTA"
      },
      "execution_count": null,
      "outputs": []
    },
    {
      "cell_type": "code",
      "source": [
        "for i, item in enumerate(image):\n",
        "  # Reshape the array for plotting\n",
        "  item = item.reshape(-1, 28, 28)\n",
        "  item = item.to(\"cpu\").detach().numpy()\n",
        "  plt.imshow(item[0])"
      ],
      "metadata": {
        "id": "wcJfVqQYJd8n"
      },
      "execution_count": null,
      "outputs": []
    },
    {
      "cell_type": "code",
      "source": [
        "for i, item in enumerate(reconstructed):\n",
        "  item = item.reshape(-1, 28, 28)\n",
        "  item = item.to(\"cpu\").detach().numpy()\n",
        "  plt.imshow(item[0])"
      ],
      "metadata": {
        "id": "YncjXSH9Jg27"
      },
      "execution_count": null,
      "outputs": []
    }
  ]
}